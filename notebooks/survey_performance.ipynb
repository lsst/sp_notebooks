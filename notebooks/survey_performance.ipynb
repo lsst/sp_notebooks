{
 "cells": [
  {
   "cell_type": "markdown",
   "metadata": {},
   "source": [
    "# Current Estimate of Survey Performance for {{params.instrument}} on {{ params.date }}"
   ]
  },
  {
   "cell_type": "code",
   "metadata": {
    "ExecuteTime": {
     "end_time": "2025-02-14T01:36:21.129718Z",
     "start_time": "2025-02-14T01:36:21.127736Z"
    }
   },
   "source": [
    "# Parameters.  Set defaults here.\n",
    "date = \"2024-12-11\"\n",
    "instrument = \"LSSTComCam\""
   ],
   "outputs": [],
   "execution_count": 1
  },
  {
   "cell_type": "code",
   "metadata": {
    "ExecuteTime": {
     "end_time": "2025-02-14T01:40:36.556060Z",
     "start_time": "2025-02-14T01:40:36.544700Z"
    }
   },
   "source": [
    "import numpy as np\n",
    "from lsst_efd_client import EfdClient\n",
    "\n",
    "# Bokeh\n",
    "import bokeh\n",
    "from bokeh.io import output_notebook\n",
    "\n",
    "# HoloViews\n",
    "import holoviews as hv"
   ],
   "outputs": [
    {
     "ename": "ModuleNotFoundError",
     "evalue": "No module named 'numpy'",
     "output_type": "error",
     "traceback": [
      "\u001B[0;31m---------------------------------------------------------------------------\u001B[0m",
      "\u001B[0;31mModuleNotFoundError\u001B[0m                       Traceback (most recent call last)",
      "Cell \u001B[0;32mIn[5], line 1\u001B[0m\n\u001B[0;32m----> 1\u001B[0m \u001B[38;5;28;01mimport\u001B[39;00m\u001B[38;5;250m \u001B[39m\u001B[38;5;21;01mnumpy\u001B[39;00m\u001B[38;5;250m \u001B[39m\u001B[38;5;28;01mas\u001B[39;00m\u001B[38;5;250m \u001B[39m\u001B[38;5;21;01mnp\u001B[39;00m\n\u001B[1;32m      2\u001B[0m \u001B[38;5;28;01mfrom\u001B[39;00m\u001B[38;5;250m \u001B[39m\u001B[38;5;21;01mlsst_efd_client\u001B[39;00m\u001B[38;5;250m \u001B[39m\u001B[38;5;28;01mimport\u001B[39;00m EfdClient\n\u001B[1;32m      4\u001B[0m \u001B[38;5;66;03m# Bokeh\u001B[39;00m\n",
      "\u001B[0;31mModuleNotFoundError\u001B[0m: No module named 'numpy'"
     ]
    }
   ],
   "execution_count": 5
  },
  {
   "metadata": {},
   "cell_type": "code",
   "outputs": [],
   "execution_count": null,
   "source": [
    "hv.extension('bokeh')\n",
    "output_notebook()"
   ]
  },
  {
   "metadata": {},
   "cell_type": "code",
   "outputs": [],
   "execution_count": null,
   "source": [
    "# Generate sample data\n",
    "x = np.linspace(-5, 5, 100)\n",
    "y = x**2  # Example quadratic function\n",
    "\n",
    "# Create a simple Curve plot\n",
    "curve = hv.Curve((x, y))\n",
    "curve.opts(\n",
    "    title='X vs Y Plot',\n",
    "    xlabel='X Axis',\n",
    "    ylabel='Y Axis',\n",
    "    width=600,\n",
    "    height=400,\n",
    "    line_color='blue',\n",
    "    tools=['hover'],\n",
    "    padding=0.1\n",
    ")"
   ]
  },
  {
   "metadata": {},
   "cell_type": "code",
   "outputs": [],
   "execution_count": null,
   "source": "curve"
  }
 ],
 "metadata": {
  "language_info": {
   "name": "python"
  },
  "kernelspec": {
   "name": "python3",
   "language": "python",
   "display_name": "Python 3 (ipykernel)"
  }
 },
 "nbformat": 4,
 "nbformat_minor": 2
}
