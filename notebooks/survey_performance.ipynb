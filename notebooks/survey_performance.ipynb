{
 "cells": [
  {
   "cell_type": "markdown",
   "metadata": {},
   "source": [
    "# Current Estimate of Survey Performance for {{params.instrument}} on {{ params.date }}"
   ]
  },
  {
   "cell_type": "code",
   "metadata": {},
   "source": [
    "# Parameters.  Set defaults here.\n",
    "\n",
    "date = \"2024-12-11\"\n",
    "instrument = \"LSSTComCam\""
   ],
   "outputs": [],
   "execution_count": null
  },
  {
   "cell_type": "code",
   "metadata": {},
   "source": [
    "import numpy as np\n",
    "import matplotlib.pyplot as plt\n",
    "from lsst_efd_client import EfdClient"
   ],
   "outputs": [],
   "execution_count": null
  }
 ],
 "metadata": {
  "language_info": {
   "name": "python"
  }
 },
 "nbformat": 4,
 "nbformat_minor": 2
}
